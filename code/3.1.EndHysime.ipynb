{
 "cells": [
  {
   "cell_type": "code",
   "execution_count": 17,
   "metadata": {},
   "outputs": [],
   "source": [
    "from __future__ import print_function\n",
    "\n",
    "%matplotlib inline\n",
    "\n",
    "\n",
    "import numpy as np\n",
    "import pysptools.util as util\n",
    "import pysptools.eea as eea\n",
    "import pysptools.abundance_maps as amp\n",
    "import os\n",
    "import os.path as osp\n",
    "import spectral.io.envi as envi\n",
    "import matplotlib.pyplot as plt\n",
    "import pysptools.classification as cls\n",
    "from spectral import *\n",
    "\n",
    "import pysptools.material_count as cnt\n",
    "import pysptools.spectro as spectro\n",
    "import scipy\n",
    "import scipy.io"
   ]
  },
  {
   "cell_type": "markdown",
   "metadata": {},
   "source": [
    "# Estimating the number of endmembers"
   ]
  },
  {
   "cell_type": "code",
   "execution_count": 18,
   "metadata": {},
   "outputs": [],
   "source": [
    "def test_hysime(data):\n",
    "    hy = cnt.HySime()\n",
    "    kf, Ek = hy.count(data)\n",
    "    print('Testing HySime')\n",
    "    print('  Virtual dimensionality is: k =', kf)\n",
    "\n",
    "\n",
    "def test_HfcVd(data):\n",
    "    hfcvd = cnt.HfcVd()\n",
    "    print('Testing HfcVd')\n",
    "    print('  Virtual dimensionality:', hfcvd.count(data))"
   ]
  },
  {
   "cell_type": "code",
   "execution_count": 21,
   "metadata": {},
   "outputs": [
    {
     "name": "stdout",
     "output_type": "stream",
     "text": [
      "Testing HySime\n",
      "  Virtual dimensionality is: k = 21\n",
      "Testing HfcVd\n",
      "  Virtual dimensionality: [369, 369, 369]\n"
     ]
    }
   ],
   "source": [
    "r1_reg = scipy.io.loadmat('r1_reg.mat')\n",
    "r1_reg = r1_reg['r1_reg']\n",
    "test_hysime(r1_reg)\n",
    "test_HfcVd(r1_reg)"
   ]
  },
  {
   "cell_type": "code",
   "execution_count": 39,
   "metadata": {},
   "outputs": [
    {
     "name": "stdout",
     "output_type": "stream",
     "text": [
      "Testing HySime\n",
      "  Virtual dimensionality is: k = 1\n",
      "Testing HfcVd\n",
      "  Virtual dimensionality: [0, 0, 0]\n"
     ]
    }
   ],
   "source": [
    "mnf_red = scipy.io.loadmat('mnf_red.mat')\n",
    "mnf_red = mnf_red['mnf_red']\n",
    "test_hysime(mnf_red)\n",
    "test_HfcVd(mnf_red)"
   ]
  },
  {
   "cell_type": "code",
   "execution_count": 19,
   "metadata": {},
   "outputs": [
    {
     "name": "stdout",
     "output_type": "stream",
     "text": [
      "Testing HySime\n",
      "  Virtual dimensionality is: k = 0\n",
      "Testing HfcVd\n",
      "  Virtual dimensionality: [23, 23, 23]\n"
     ]
    }
   ],
   "source": [
    "pca_red = scipy.io.loadmat('pca_red.mat')\n",
    "pca_red = pca_red['pca_red']\n",
    "test_hysime(pca_red)\n",
    "test_HfcVd(pca_red)"
   ]
  },
  {
   "cell_type": "code",
   "execution_count": 42,
   "metadata": {},
   "outputs": [
    {
     "name": "stdout",
     "output_type": "stream",
     "text": [
      "Testing HySime\n",
      "  Virtual dimensionality is: k = 0\n",
      "Testing HfcVd\n",
      "  Virtual dimensionality: [11, 11, 11]\n"
     ]
    }
   ],
   "source": [
    "rsvd_red = scipy.io.loadmat('rsvd_red.mat')\n",
    "rsvd_red = rsvd_red['rsvd_red']\n",
    "test_hysime(rsvd_red)\n",
    "test_HfcVd(rsvd_red)"
   ]
  },
  {
   "cell_type": "code",
   "execution_count": 23,
   "metadata": {},
   "outputs": [
    {
     "name": "stdout",
     "output_type": "stream",
     "text": [
      "Testing HySime\n",
      "  Virtual dimensionality is: k = 0\n",
      "Testing HfcVd\n",
      "  Virtual dimensionality: [30, 30, 30]\n"
     ]
    }
   ],
   "source": [
    "ica_red = scipy.io.loadmat('ica_red.mat')\n",
    "ica_red = ica_red['ica_red']\n",
    "test_hysime(ica_red)\n",
    "test_HfcVd(ica_red)"
   ]
  },
  {
   "cell_type": "code",
   "execution_count": 37,
   "metadata": {},
   "outputs": [
    {
     "name": "stdout",
     "output_type": "stream",
     "text": [
      "Testing HySime\n",
      "  Virtual dimensionality is: k = 106\n",
      "Testing HfcVd\n",
      "  Virtual dimensionality: [123, 123, 122]\n"
     ]
    }
   ],
   "source": [
    "mnf_den = scipy.io.loadmat('mnf_den.mat')\n",
    "mnf_den = mnf_den['mnf_den']\n",
    "test_hysime(mnf_den)\n",
    "test_HfcVd(mnf_den)"
   ]
  },
  {
   "cell_type": "code",
   "execution_count": 25,
   "metadata": {},
   "outputs": [
    {
     "name": "stdout",
     "output_type": "stream",
     "text": [
      "Testing HySime\n",
      "  Virtual dimensionality is: k = 21\n",
      "Testing HfcVd\n",
      "  Virtual dimensionality: [24, 24, 24]\n"
     ]
    }
   ],
   "source": [
    "pca_den = scipy.io.loadmat('pca_den.mat')\n",
    "pca_den = pca_den['pca_den']\n",
    "test_hysime(pca_den)\n",
    "test_HfcVd(pca_den)"
   ]
  },
  {
   "cell_type": "code",
   "execution_count": 43,
   "metadata": {},
   "outputs": [
    {
     "name": "stdout",
     "output_type": "stream",
     "text": [
      "Testing HySime\n",
      "  Virtual dimensionality is: k = 11\n",
      "Testing HfcVd\n",
      "  Virtual dimensionality: [12, 12, 12]\n"
     ]
    }
   ],
   "source": [
    "rsvd_den = scipy.io.loadmat('rsvd_den.mat')\n",
    "rsvd_den = rsvd_den['rsvd_den']\n",
    "test_hysime(rsvd_den)\n",
    "test_HfcVd(rsvd_den)"
   ]
  },
  {
   "cell_type": "code",
   "execution_count": 26,
   "metadata": {},
   "outputs": [
    {
     "name": "stdout",
     "output_type": "stream",
     "text": [
      "Testing HySime\n",
      "  Virtual dimensionality is: k = 31\n",
      "Testing HfcVd\n",
      "  Virtual dimensionality: [30, 30, 30]\n"
     ]
    }
   ],
   "source": [
    "ica_den = scipy.io.loadmat('ica_den.mat')\n",
    "ica_den = ica_den['ica_den']\n",
    "test_hysime(ica_den)\n",
    "test_HfcVd(ica_den)"
   ]
  },
  {
   "cell_type": "code",
   "execution_count": 27,
   "metadata": {},
   "outputs": [
    {
     "name": "stdout",
     "output_type": "stream",
     "text": [
      "Testing HySime\n",
      "  Virtual dimensionality is: k = 14\n",
      "Testing HfcVd\n",
      "  Virtual dimensionality: [30, 30, 30]\n"
     ]
    }
   ],
   "source": [
    "rp_red = scipy.io.loadmat('rp_red.mat')\n",
    "rp_red = rp_red['rp_red']\n",
    "test_hysime(rp_red)\n",
    "test_HfcVd(rp_red)"
   ]
  },
  {
   "cell_type": "code",
   "execution_count": 41,
   "metadata": {},
   "outputs": [
    {
     "data": {
      "text/plain": [
       "array([[False, False, False, False, False, False],\n",
       "       [False, False, False, False, False, False],\n",
       "       [False, False, False, False, False, False],\n",
       "       [False, False, False, False, False, False],\n",
       "       [False, False, False, False, False, False],\n",
       "       [False, False, False, False, False, False]])"
      ]
     },
     "execution_count": 41,
     "metadata": {},
     "output_type": "execute_result"
    }
   ],
   "source": [
    "pca_den[1:7,1:7,3] == ica_den[1:7,1:7,3]"
   ]
  },
  {
   "cell_type": "code",
   "execution_count": null,
   "metadata": {},
   "outputs": [],
   "source": []
  }
 ],
 "metadata": {
  "kernelspec": {
   "display_name": "Python 3",
   "language": "python",
   "name": "python3"
  },
  "language_info": {
   "codemirror_mode": {
    "name": "ipython",
    "version": 3
   },
   "file_extension": ".py",
   "mimetype": "text/x-python",
   "name": "python",
   "nbconvert_exporter": "python",
   "pygments_lexer": "ipython3",
   "version": "3.8.3"
  }
 },
 "nbformat": 4,
 "nbformat_minor": 4
}
